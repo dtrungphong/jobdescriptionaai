{
 "cells": [
  {
   "cell_type": "code",
   "execution_count": 4,
   "metadata": {},
   "outputs": [],
   "source": [
    "import pandas as pd\n",
    "import os\n",
    "from bs4 import BeautifulSoup"
   ]
  },
  {
   "attachments": {},
   "cell_type": "markdown",
   "metadata": {},
   "source": [
    "# Get raw data from local"
   ]
  },
  {
   "cell_type": "code",
   "execution_count": 7,
   "metadata": {},
   "outputs": [],
   "source": [
    "path_data = './data-02-06/1000'\n",
    "name_file = 'data.html'"
   ]
  },
  {
   "attachments": {},
   "cell_type": "markdown",
   "metadata": {},
   "source": [
    "# test"
   ]
  },
  {
   "cell_type": "code",
   "execution_count": 47,
   "metadata": {},
   "outputs": [],
   "source": [
    "\n",
    "def read_file_html(path_data:str,name_file:str):\n",
    "    '''read file html by BeautifulSoup'''\n",
    "    HTML_content = open(os.path.join(path_data,name_file),\"r\").read()\n",
    "    source_code = BeautifulSoup(HTML_content,'html.parser')\n",
    "    return source_code\n",
    "\n",
    "def filter_paragraph(source_code:BeautifulSoup,job_title:str):\n",
    "    content_list = source_code.get_text().lower().split('\\n\\n\\n\\n')\n",
    "    \n",
    "    jd = list(filter((lambda content:(job_title in content)),content_list)) # get text follow job_title\n",
    "    max_size = max(list(len(content)for content in jd))\n",
    "    jd = list(filter((lambda content:(len(content)==max_size )),jd))\n",
    "    return jd[0]"
   ]
  },
  {
   "cell_type": "code",
   "execution_count": 48,
   "metadata": {},
   "outputs": [],
   "source": [
    "jd = (filter_paragraph(read_file_html(path_data,name_file=name_file),'senior client'))"
   ]
  },
  {
   "cell_type": "code",
   "execution_count": 49,
   "metadata": {},
   "outputs": [
    {
     "data": {
      "text/plain": [
       "'\\n\\nsenior client services analyst\\n\\napply now\\n\\nprimary location: ho chi minh, hồ chí minh, vietnam\\nfull time\\nr1347180\\n\\n\\njob description\\nas a senior client service analyst at iqvia, you will be responsible for providing quality service to the clients and assist them to obtain maximum value from iqvia information products and services.control the data and report generation process, provide guidance and support to internal and external data stakeholdersassure the consistency, integrity, and availability of the data, as well as being a communication channel with our clients, information providers and internal team.analyzes complex queries raised by clients using in-depth understanding of the client and iqvia syndicated offerings (data), ensuring a comprehensive and timely responses\\xa0provides additional insight and interpretation of the data to enable appropriate resolution of business questions and/or issues, identifies customized solutions\\xa0independently support meetings and discussions (both internally & externally) related to project work/data analytics \\xa0runs standard queries for data extraction\\xa0verifies data for accuracy and completeness\\xa0skills & experiencebachelor’s degree with at least 3 years of related experienceexperience in pharmaceutical industry is preferredwell versed in microsoft excel, powerpoint and power biknowledge in sql server is preferredpossess strong analytical and communication skillsiqvia is a leading global provider of advanced analytics, technology solutions and clinical research services to the life sciences industry. we believe in pushing the boundaries of human science and data science to make the biggest impact possible – to help our customers create a healthier world. learn more at https://jobs.iqvia.com\\n\\napply now\\nsave job\\nremove saved job\\n '"
      ]
     },
     "execution_count": 49,
     "metadata": {},
     "output_type": "execute_result"
    }
   ],
   "source": [
    "jd\n"
   ]
  },
  {
   "cell_type": "code",
   "execution_count": null,
   "metadata": {},
   "outputs": [],
   "source": []
  }
 ],
 "metadata": {
  "kernelspec": {
   "display_name": "Job_Decription",
   "language": "python",
   "name": "python3"
  },
  "language_info": {
   "codemirror_mode": {
    "name": "ipython",
    "version": 3
   },
   "file_extension": ".py",
   "mimetype": "text/x-python",
   "name": "python",
   "nbconvert_exporter": "python",
   "pygments_lexer": "ipython3",
   "version": "3.11.3"
  },
  "orig_nbformat": 4
 },
 "nbformat": 4,
 "nbformat_minor": 2
}
