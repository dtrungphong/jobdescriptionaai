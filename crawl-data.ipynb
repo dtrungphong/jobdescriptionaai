{
 "cells": [
  {
   "cell_type": "code",
   "execution_count": 1,
   "metadata": {},
   "outputs": [],
   "source": [
    "import pandas as pd\n",
    "import numpy as np\n",
    "import requests\n",
    "import os"
   ]
  },
  {
   "cell_type": "code",
   "execution_count": 2,
   "metadata": {},
   "outputs": [],
   "source": [
    "data = pd.read_csv('./data-02-06-23.csv')"
   ]
  },
  {
   "cell_type": "code",
   "execution_count": 3,
   "metadata": {},
   "outputs": [],
   "source": [
    "data['check'] = np.zeros(len(data),dtype=bool)\n",
    "data['error'] = [\"\"] * len(data)"
   ]
  },
  {
   "cell_type": "code",
   "execution_count": 5,
   "metadata": {},
   "outputs": [],
   "source": [
    "for row in range(len(data)):\n",
    "    url = data.loc[row,'JD Details']\n",
    "    ID_job = data.loc[row,'Job ID']\n",
    "    flag = data.loc[row,'check']\n",
    "    if(flag or ('facebook' in url) or ('google' in url) or ('linkedin' in url)):\n",
    "        continue\n",
    "    \n",
    "    try:\n",
    "        rq = requests.get(url)\n",
    "    except Exception as e:\n",
    "        data['error'] = e\n",
    "        continue\n",
    "    if rq.status_code!=200:\n",
    "        data.loc[row,'error'] = rq.status_code\n",
    "        continue\n",
    "    path_ = os.path.join('data-02-06',str(ID_job))\n",
    "    if(not os.path.exists(path_)):\n",
    "        os.mkdir(path_)\n",
    "\n",
    "    try:\n",
    "        \n",
    "        with open(path_+'/data.html','w') as writer:\n",
    "            writer.write(rq.text)\n",
    "        data.loc[row,'check'] = True\n",
    "    except Exception as e:\n",
    "        data['error'] = e\n",
    "        continue\n",
    "\n",
    "        "
   ]
  },
  {
   "cell_type": "code",
   "execution_count": 6,
   "metadata": {},
   "outputs": [],
   "source": [
    "data.to_csv('./data-02-06-22_crawl.csv',index=False)"
   ]
  },
  {
   "cell_type": "code",
   "execution_count": 7,
   "metadata": {},
   "outputs": [],
   "source": [
    "df = pd.read_csv('./data-02-06-22_crawl.csv')"
   ]
  },
  {
   "cell_type": "code",
   "execution_count": 10,
   "metadata": {},
   "outputs": [
    {
     "data": {
      "text/plain": [
       "786"
      ]
     },
     "execution_count": 10,
     "metadata": {},
     "output_type": "execute_result"
    }
   ],
   "source": [
    "len(df)-df['check'].sum()"
   ]
  },
  {
   "cell_type": "code",
   "execution_count": null,
   "metadata": {},
   "outputs": [],
   "source": []
  }
 ],
 "metadata": {
  "kernelspec": {
   "display_name": "Python 3",
   "language": "python",
   "name": "python3"
  },
  "language_info": {
   "codemirror_mode": {
    "name": "ipython",
    "version": 3
   },
   "file_extension": ".py",
   "mimetype": "text/x-python",
   "name": "python",
   "nbconvert_exporter": "python",
   "pygments_lexer": "ipython3",
   "version": "3.6.9"
  }
 },
 "nbformat": 4,
 "nbformat_minor": 5
}
